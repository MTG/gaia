{
 "cells": [
  {
   "cell_type": "code",
   "execution_count": 1,
   "metadata": {
    "collapsed": true
   },
   "outputs": [],
   "source": [
    "from gaia2 import *\n",
    "import unittest\n",
    "import testdata"
   ]
  },
  {
   "cell_type": "code",
   "execution_count": 2,
   "metadata": {
    "collapsed": true
   },
   "outputs": [],
   "source": [
    "class TestPythonLib(unittest.TestCase):\n",
    "\n",
    "    def testCombinations(self):\n",
    "        from gaia2.utils import combinations, dictcombinations\n",
    "\n",
    "        choices = [ [ 1, 2 ],\n",
    "                    [ 3, 4 ] ]\n",
    "\n",
    "        combs = [ (1, 3), (1, 4), (2, 3), (2, 4) ]\n",
    "\n",
    "        self.assertEqual(list(combinations(choices)), combs)\n",
    "\n",
    "        choices = [ [ 'a', 'b', 'e' ],\n",
    "                    [ 'c' ],\n",
    "                    [ 4, 7 ] ]\n",
    "\n",
    "        combs = [ ('a', 'c', 4), ('a', 'c', 7),\n",
    "                  ('b', 'c', 4), ('b', 'c', 7),\n",
    "                  ('e', 'c', 4), ('e', 'c', 7) ]\n",
    "\n",
    "        self.assertEqual(list(combinations(choices)), combs)\n",
    "\n",
    "        choices = { 'a': [ 1, 2, 3 ],\n",
    "                    'b': [ 'frotz' ],\n",
    "                    'c': [ 2.3, 4.7 ]\n",
    "                    }\n",
    "\n",
    "        combs = [ { 'a': 1, 'b': 'frotz', 'c': 2.3 },\n",
    "                  { 'a': 1, 'b': 'frotz', 'c': 4.7 },\n",
    "                  { 'a': 2, 'b': 'frotz', 'c': 2.3 },\n",
    "                  { 'a': 2, 'b': 'frotz', 'c': 4.7 },\n",
    "                  { 'a': 3, 'b': 'frotz', 'c': 2.3 },\n",
    "                  { 'a': 3, 'b': 'frotz', 'c': 4.7 } ]\n",
    "\n",
    "        for r in list(dictcombinations(choices)):\n",
    "            self.assert_(r in combs)\n"
   ]
  },
  {
   "cell_type": "code",
   "execution_count": 3,
   "metadata": {
    "collapsed": false
   },
   "outputs": [
    {
     "name": "stderr",
     "output_type": "stream",
     "text": [
      "testCombinations (__main__.TestPythonLib) ... /usr/lib/python3/dist-packages/ipykernel_launcher.py:36: DeprecationWarning: Please use assertTrue instead.\n",
      "ok\n",
      "\n",
      "----------------------------------------------------------------------\n",
      "Ran 1 test in 0.107s\n",
      "\n",
      "OK\n"
     ]
    }
   ],
   "source": [
    "suite = unittest.TestLoader().loadTestsFromTestCase(TestPythonLib)\n",
    "\n",
    "if __name__ == '__main__':\n",
    "    unittest.TextTestRunner(verbosity=2).run(suite)"
   ]
  },
  {
   "cell_type": "code",
   "execution_count": null,
   "metadata": {
    "collapsed": true
   },
   "outputs": [],
   "source": []
  }
 ],
 "metadata": {
  "kernelspec": {
   "display_name": "Python 3",
   "language": "python",
   "name": "python3"
  },
  "language_info": {
   "codemirror_mode": {
    "name": "ipython",
    "version": 3
   },
   "file_extension": ".py",
   "mimetype": "text/x-python",
   "name": "python",
   "nbconvert_exporter": "python",
   "pygments_lexer": "ipython3",
   "version": "3.6.3"
  }
 },
 "nbformat": 4,
 "nbformat_minor": 2
}
