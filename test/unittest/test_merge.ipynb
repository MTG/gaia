{
 "cells": [
  {
   "cell_type": "code",
   "execution_count": 1,
   "metadata": {
    "collapsed": true
   },
   "outputs": [],
   "source": [
    "from __future__ import print_function\n",
    "from gaia2 import cvar\n",
    "from gaia2 import DataSet\n",
    "from gaia2 import Point\n",
    "import unittest2\n",
    "import testdata\n",
    "import gaia2.fastyaml as yaml\n",
    "import os, glob, subprocess\n"
   ]
  },
  {
   "cell_type": "code",
   "execution_count": 2,
   "metadata": {
    "collapsed": true
   },
   "outputs": [],
   "source": [
    "class TestMerge(unittest2.TestCase):\n",
    "\n",
    "    def testValues(self):\n",
    "        collection = yaml.load(open(testdata.TEST_DATABASE_FILES, 'r').read())\n",
    "\n",
    "        # prepend 'data/' to the filenames\n",
    "        for pid, filename in list(collection.items()):\n",
    "            collection[pid] = 'data/' + filename\n",
    "\n",
    "        cvar.verbose = False\n",
    "        ds = DataSet.mergeFiles(collection)\n",
    "        cvar.verbose = True\n",
    "\n",
    "        self.assertAlmostEqual(ds.point('Panic-The Smiths.mp3').value('danceability'),\n",
    "                               0.5691167712)\n",
    "\n",
    "        self.assertAlmostEqual(ds.point('11 Go.mp3').value('energy.mean'),\n",
    "                               0.0231081359)\n",
    "\n",
    "        self.assertAlmostEqual(ds.point('03 The Chopper [Shy FX Remix].mp3').value('chords_number_rate'),\n",
    "                               0.0551007539)\n",
    "\n",
    "        self.assertEqual(ds.point('08 I Can\\'t Dance - Genesis.mp3').label('key_key'),\n",
    "                         'D#')\n",
    "\n",
    "        self.assertEqual(ds.point('06 Booo!.mp3').label('chords_mode'),\n",
    "                         'major')\n",
    "\n",
    "        ds.save(testdata.TEST_DATABASE)\n",
    "\n",
    "    def testGaiaFusion(self):\n",
    "        cmd = [ 'python', '../../src/tools/gaiafusion.py', '-c', '2', '-d', 'data/fusion', 'data/gaiatest.db' ]\n",
    "\n",
    "        fusion = subprocess.Popen(cmd, stdout = subprocess.PIPE, stderr = subprocess.PIPE)\n",
    "        stdout, stderr = fusion.communicate()\n",
    "\n",
    "        # remove temporary data/gaiatest.db* file\n",
    "        for f in glob.glob('data/gaiatest.db*'):\n",
    "            os.remove(f)\n",
    "\n",
    "        if fusion.returncode != 0:\n",
    "            print('STDOUT' + '*'*100)\n",
    "            print(stdout)\n",
    "            print('STDERR' + '*'*100)\n",
    "            print(stderr)\n",
    "\n",
    "        self.assertEqual(fusion.returncode, 0)\n",
    "\n",
    "    def testNamespaceClash(self):\n",
    "        p = Point()\n",
    "        p.load('data/namespace_clash.sig')\n",
    "\n"
   ]
  },
  {
   "cell_type": "code",
   "execution_count": 3,
   "metadata": {
    "collapsed": false
   },
   "outputs": [
    {
     "name": "stderr",
     "output_type": "stream",
     "text": [
      "testGaiaFusion (__main__.TestMerge) ... ok\n",
      "testNamespaceClash (__main__.TestMerge) ... ok\n",
      "testValues (__main__.TestMerge) ... ok\n",
      "\n",
      "----------------------------------------------------------------------\n",
      "Ran 3 tests in 5.503s\n",
      "\n",
      "OK\n"
     ]
    }
   ],
   "source": [
    "suite = unittest2.TestLoader().loadTestsFromTestCase(TestMerge)\n",
    "\n",
    "if __name__ == '__main__':\n",
    "    unittest2.TextTestRunner(verbosity=2).run(suite)\n"
   ]
  },
  {
   "cell_type": "code",
   "execution_count": null,
   "metadata": {
    "collapsed": true
   },
   "outputs": [],
   "source": []
  }
 ],
 "metadata": {
  "kernelspec": {
   "display_name": "Python 3",
   "language": "python",
   "name": "python3"
  },
  "language_info": {
   "codemirror_mode": {
    "name": "ipython",
    "version": 3
   },
   "file_extension": ".py",
   "mimetype": "text/x-python",
   "name": "python",
   "nbconvert_exporter": "python",
   "pygments_lexer": "ipython3",
   "version": "3.6.3"
  }
 },
 "nbformat": 4,
 "nbformat_minor": 2
}
