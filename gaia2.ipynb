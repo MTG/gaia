{
 "cells": [
  {
   "cell_type": "code",
   "execution_count": 11,
   "metadata": {
    "collapsed": false,
    "scrolled": true
   },
   "outputs": [
    {
     "data": {
      "text/plain": [
       "['Analyzer',\n",
       " 'AnalyzerFactory',\n",
       " 'AnalyzerFactory_create',\n",
       " 'AnalyzerFactory_instance',\n",
       " 'AnalyzerFactory_keys',\n",
       " 'AnalyzerFactory_swigregister',\n",
       " 'Analyzer_swigregister',\n",
       " 'AndFilter',\n",
       " 'AndFilter_swigregister',\n",
       " 'CoordVector',\n",
       " 'CoordVector_swigregister',\n",
       " 'DataSet',\n",
       " 'DataSet_mergeFiles',\n",
       " 'DataSet_points',\n",
       " 'DataSet_swigregister',\n",
       " 'DistanceFunction',\n",
       " 'DistanceFunctionFactory',\n",
       " 'DistanceFunctionFactory_create',\n",
       " 'DistanceFunctionFactory_instance',\n",
       " 'DistanceFunctionFactory_keys',\n",
       " 'DistanceFunctionFactory_swigregister',\n",
       " 'DistanceFunction_swigregister',\n",
       " 'EnumType',\n",
       " 'Filter',\n",
       " 'FilterParser',\n",
       " 'FilterParser_parse',\n",
       " 'FilterParser_swigregister',\n",
       " 'FilterWrapper',\n",
       " 'FilterWrapper_swigregister',\n",
       " 'Filter_opFromString',\n",
       " 'Filter_parse',\n",
       " 'Filter_swigregister',\n",
       " 'FixedLength',\n",
       " 'FixedLengthException',\n",
       " 'FixedLengthException_swigregister',\n",
       " 'FloatVector',\n",
       " 'FloatVector_swigregister',\n",
       " 'FrozenDataSet',\n",
       " 'FrozenDataSet_checkValidFrozenDataSet',\n",
       " 'FrozenDataSet_swigregister',\n",
       " 'FrozenDistance',\n",
       " 'FrozenDistanceFactory',\n",
       " 'FrozenDistanceFactory_create',\n",
       " 'FrozenDistanceFactory_instance',\n",
       " 'FrozenDistanceFactory_keys',\n",
       " 'FrozenDistanceFactory_swigregister',\n",
       " 'FrozenDistance_swigregister',\n",
       " 'FrozenLayout',\n",
       " 'FrozenMetricFactory',\n",
       " 'FrozenPoint',\n",
       " 'FrozenResultSet',\n",
       " 'FrozenResultSet_swigregister',\n",
       " 'FrozenSearchPoint',\n",
       " 'FrozenSearchPoint_swigregister',\n",
       " 'FrozenView',\n",
       " 'FrozenView_swigregister',\n",
       " 'GAlgorithms',\n",
       " 'GAll',\n",
       " 'GDataSet',\n",
       " 'GDescriptorTree',\n",
       " 'GIO',\n",
       " 'GMath',\n",
       " 'GMemory',\n",
       " 'GNone',\n",
       " 'GParser',\n",
       " 'GPerf',\n",
       " 'GPoint',\n",
       " 'GRegion',\n",
       " 'GSearchSpace',\n",
       " 'GTools',\n",
       " 'GView',\n",
       " 'G_HLINE',\n",
       " 'GaiaException',\n",
       " 'GaiaException_swigregister',\n",
       " 'InputSpace',\n",
       " 'IntVector',\n",
       " 'IntVector_swigregister',\n",
       " 'Logger',\n",
       " 'Logger_swigregister',\n",
       " 'MatrixD',\n",
       " 'MatrixD_swigregister',\n",
       " 'MetricFactory',\n",
       " 'NAME_SEPARATOR',\n",
       " 'NotFilter',\n",
       " 'NotFilter_swigregister',\n",
       " 'OrFilter',\n",
       " 'OrFilter_swigregister',\n",
       " 'Parameter',\n",
       " 'ParameterMap',\n",
       " 'ParameterMap_swigregister',\n",
       " 'Parameter_swigregister',\n",
       " 'Point',\n",
       " 'PointArray',\n",
       " 'PointArray_swigregister',\n",
       " 'PointLayout',\n",
       " 'PointLayoutData',\n",
       " 'PointLayoutData_swigregister',\n",
       " 'PointLayout_swigregister',\n",
       " 'Point_fromSingleSegment',\n",
       " 'Point_swigregister',\n",
       " 'RealDescriptor',\n",
       " 'RealDescriptorArray',\n",
       " 'RealDescriptorArray_swigregister',\n",
       " 'RealDescriptor_swigregister',\n",
       " 'RealType',\n",
       " 'Region',\n",
       " 'Region_swigregister',\n",
       " 'ResultSet',\n",
       " 'ResultSet_swigregister',\n",
       " 'Scope',\n",
       " 'Scope_swigregister',\n",
       " 'ScopedData',\n",
       " 'ScopedData_swigregister',\n",
       " 'SearchPoint',\n",
       " 'SearchPoint_swigregister',\n",
       " 'SearchResultsPair',\n",
       " 'SearchResultsPair_swigregister',\n",
       " 'SearchResultsVector',\n",
       " 'SearchResultsVector_swigregister',\n",
       " 'Segment',\n",
       " 'SegmentVector',\n",
       " 'SegmentVector_swigregister',\n",
       " 'Segment_swigregister',\n",
       " 'StringDescriptor',\n",
       " 'StringDescriptor_swigregister',\n",
       " 'StringMap',\n",
       " 'StringMap_swigregister',\n",
       " 'StringType',\n",
       " 'StringVector',\n",
       " 'StringVector_swigregister',\n",
       " 'Stringifier',\n",
       " 'Stringifier_swigregister',\n",
       " 'SwigPyIterator',\n",
       " 'SwigPyIterator_swigregister',\n",
       " 'TransfoChain',\n",
       " 'TransfoChain_swigregister',\n",
       " 'TransfoChain_toPython',\n",
       " 'Transformation',\n",
       " 'Transformation_swigregister',\n",
       " 'UndefinedType',\n",
       " 'UnscopedData',\n",
       " 'UnscopedData_swigregister',\n",
       " 'VariableLength',\n",
       " 'VectorD',\n",
       " 'VectorD_swigregister',\n",
       " 'VectorFilter',\n",
       " 'VectorFilter_swigregister',\n",
       " 'VectorPoint',\n",
       " 'VectorPoint_swigregister',\n",
       " 'View',\n",
       " 'View_swigregister',\n",
       " '_AnalyzerFactory_create',\n",
       " '_FrozenDistanceFactory_create',\n",
       " '_MetricFactory_create',\n",
       " '__TODO__',\n",
       " '__TODO___swigregister',\n",
       " '__builtin__',\n",
       " '__builtins__',\n",
       " '__doc__',\n",
       " '__file__',\n",
       " '__lshift__',\n",
       " '__name__',\n",
       " '__package__',\n",
       " '__path__',\n",
       " '__rshift__',\n",
       " '__version__',\n",
       " '_gaia2',\n",
       " '_gaia2_docDict',\n",
       " '_newclass',\n",
       " '_object',\n",
       " '_realDescComp',\n",
       " '_swig_getattr',\n",
       " '_swig_property',\n",
       " '_swig_repr',\n",
       " '_swig_setattr',\n",
       " '_swig_setattr_nondynamic',\n",
       " 'addChildRef',\n",
       " 'addImportPath',\n",
       " 'addMultiChildRef',\n",
       " 'addParentRef',\n",
       " 'applyTransfoChain',\n",
       " 'autoGetValue',\n",
       " 'autoSetValue',\n",
       " 'base64',\n",
       " 'cerr',\n",
       " 'checkIsomorphDataSets',\n",
       " 'chi2inv',\n",
       " 'cin',\n",
       " 'clog',\n",
       " 'collections',\n",
       " 'cout',\n",
       " 'covarianceMatrix',\n",
       " 'cvar',\n",
       " 'debugModuleDescription',\n",
       " 'delete_QString',\n",
       " 'endl',\n",
       " 'endl_cb_ptr',\n",
       " 'ends',\n",
       " 'ends_cb_ptr',\n",
       " 'erfinv',\n",
       " 'fastyaml',\n",
       " 'filedir',\n",
       " 'flush',\n",
       " 'flush_cb_ptr',\n",
       " 'fnmatch',\n",
       " 'init',\n",
       " 'ios',\n",
       " 'ios_base',\n",
       " 'ios_base_swigregister',\n",
       " 'ios_base_sync_with_stdio',\n",
       " 'ios_base_xalloc',\n",
       " 'ios_swigregister',\n",
       " 'iostream',\n",
       " 'iostream_swigregister',\n",
       " 'isAlwaysFalse',\n",
       " 'isAlwaysTrue',\n",
       " 'istream',\n",
       " 'istream_swigregister',\n",
       " 'lengthTypeToString',\n",
       " 'mergeDataSets',\n",
       " 'mergeLayouts',\n",
       " 'noParams',\n",
       " 'norminv',\n",
       " 'os',\n",
       " 'ostream',\n",
       " 'ostream_swigregister',\n",
       " 'pmap',\n",
       " 'printDescriptor',\n",
       " 'registerAnalyzers',\n",
       " 'registerFrozenMetrics',\n",
       " 'registerMetrics',\n",
       " 'rootdir',\n",
       " 'setDebugLevel',\n",
       " 'shutdown',\n",
       " 'stripQuotes',\n",
       " 'struct',\n",
       " 'sys',\n",
       " 'toParameterMap',\n",
       " 'toYaml',\n",
       " 'transform',\n",
       " 'typeToString',\n",
       " 'unsetDebugLevel',\n",
       " 'yaml']"
      ]
     },
     "execution_count": 11,
     "metadata": {},
     "output_type": "execute_result"
    }
   ],
   "source": [
    "import gaia2\n",
    "dir(gaia2)"
   ]
  },
  {
   "cell_type": "code",
   "execution_count": 12,
   "metadata": {
    "collapsed": true
   },
   "outputs": [],
   "source": [
    "# display info:\n",
    "cvar.verbose = True"
   ]
  },
  {
   "cell_type": "code",
   "execution_count": 3,
   "metadata": {
    "collapsed": true
   },
   "outputs": [],
   "source": [
    "ds = DataSet()"
   ]
  },
  {
   "cell_type": "code",
   "execution_count": 14,
   "metadata": {
    "collapsed": false
   },
   "outputs": [],
   "source": [
    "p1 = Point()\n",
    "p1.load('/home/gordon/Music/ABMI-509-3_20140325_000000.sig')\n",
    "p1.setName('ABMI-509-3_20140325_000000')"
   ]
  },
  {
   "cell_type": "code",
   "execution_count": 15,
   "metadata": {
    "collapsed": false
   },
   "outputs": [
    {
     "ename": "Exception",
     "evalue": "Unable to find point with id 'ABMI-509-3_20140325_000000'",
     "output_type": "error",
     "traceback": [
      "\u001b[0;31m---------------------------------------------------------------------------\u001b[0m",
      "\u001b[0;31mException\u001b[0m                                 Traceback (most recent call last)",
      "\u001b[0;32m<ipython-input-15-20736eab2c0a>\u001b[0m in \u001b[0;36m<module>\u001b[0;34m()\u001b[0m\n\u001b[0;32m----> 1\u001b[0;31m \u001b[0mp\u001b[0m \u001b[0;34m=\u001b[0m \u001b[0mds\u001b[0m\u001b[0;34m.\u001b[0m\u001b[0mpoint\u001b[0m\u001b[0;34m(\u001b[0m\u001b[0;34m'ABMI-509-3_20140325_000000'\u001b[0m\u001b[0;34m)\u001b[0m\u001b[0;34m\u001b[0m\u001b[0m\n\u001b[0m",
      "\u001b[0;32m/usr/local/lib/python2.7/dist-packages/gaia2/__init__.py\u001b[0m in \u001b[0;36mnewMethod\u001b[0;34m(*args, **kwargs)\u001b[0m\n\u001b[1;32m   6193\u001b[0m \u001b[0;34m\u001b[0m\u001b[0m\n\u001b[1;32m   6194\u001b[0m     \u001b[0;32mdef\u001b[0m \u001b[0mnewMethod\u001b[0m\u001b[0;34m(\u001b[0m\u001b[0;34m*\u001b[0m\u001b[0margs\u001b[0m\u001b[0;34m,\u001b[0m \u001b[0;34m**\u001b[0m\u001b[0mkwargs\u001b[0m\u001b[0;34m)\u001b[0m\u001b[0;34m:\u001b[0m\u001b[0;34m\u001b[0m\u001b[0m\n\u001b[0;32m-> 6195\u001b[0;31m         \u001b[0mresult\u001b[0m \u001b[0;34m=\u001b[0m \u001b[0morigMethod\u001b[0m\u001b[0;34m(\u001b[0m\u001b[0;34m*\u001b[0m\u001b[0margs\u001b[0m\u001b[0;34m,\u001b[0m \u001b[0;34m**\u001b[0m\u001b[0mkwargs\u001b[0m\u001b[0;34m)\u001b[0m\u001b[0;34m\u001b[0m\u001b[0m\n\u001b[0m\u001b[1;32m   6196\u001b[0m         \u001b[0mresult\u001b[0m\u001b[0;34m.\u001b[0m\u001b[0m_parentRef\u001b[0m \u001b[0;34m=\u001b[0m \u001b[0margs\u001b[0m\u001b[0;34m[\u001b[0m\u001b[0;36m0\u001b[0m\u001b[0;34m]\u001b[0m \u001b[0;31m# args[0] == self\u001b[0m\u001b[0;34m\u001b[0m\u001b[0m\n\u001b[1;32m   6197\u001b[0m         \u001b[0;32mreturn\u001b[0m \u001b[0mresult\u001b[0m\u001b[0;34m\u001b[0m\u001b[0m\n",
      "\u001b[0;32m/usr/local/lib/python2.7/dist-packages/gaia2/__init__.py\u001b[0m in \u001b[0;36mpoint\u001b[0;34m(self, *args)\u001b[0m\n\u001b[1;32m   5409\u001b[0m         \u001b[0mGaiaException\u001b[0m \u001b[0mwhen\u001b[0m \u001b[0mthe\u001b[0m \u001b[0mpoint\u001b[0m \u001b[0mwas\u001b[0m \u001b[0;32mnot\u001b[0m \u001b[0mfound\u001b[0m \u001b[0;32min\u001b[0m \u001b[0mthe\u001b[0m \u001b[0mdataset\u001b[0m\u001b[0;34m\u001b[0m\u001b[0m\n\u001b[1;32m   5410\u001b[0m         \"\"\"\n\u001b[0;32m-> 5411\u001b[0;31m         \u001b[0;32mreturn\u001b[0m \u001b[0m_gaia2\u001b[0m\u001b[0;34m.\u001b[0m\u001b[0mDataSet_point\u001b[0m\u001b[0;34m(\u001b[0m\u001b[0mself\u001b[0m\u001b[0;34m,\u001b[0m \u001b[0;34m*\u001b[0m\u001b[0margs\u001b[0m\u001b[0;34m)\u001b[0m\u001b[0;34m\u001b[0m\u001b[0m\n\u001b[0m\u001b[1;32m   5412\u001b[0m \u001b[0;34m\u001b[0m\u001b[0m\n\u001b[1;32m   5413\u001b[0m \u001b[0;34m\u001b[0m\u001b[0m\n",
      "\u001b[0;31mException\u001b[0m: Unable to find point with id 'ABMI-509-3_20140325_000000'"
     ]
    }
   ],
   "source": [
    "p = ds.point('ABMI-509-3_20140325_000000')"
   ]
  },
  {
   "cell_type": "code",
   "execution_count": 41,
   "metadata": {
    "collapsed": false,
    "scrolled": false
   },
   "outputs": [
    {
     "name": "stdout",
     "output_type": "stream",
     "text": [
      "ABC\"ABMI-509-3_20140324_000000\": \"ABMI-509-3_20140324_000000.sig\"\n",
      "DEF\"ABMI-509-3_20140325_000000\": \"ABMI-509-3_20140325_000000.sig\"\n"
     ]
    }
   ],
   "source": [
    "#input = raw_input\n",
    "\n",
    "with open('/home/gordon/filelist.yaml','w') as out:\n",
    "    #line1 = raw_input(\"ABMI-509-3_20140324_000000\": \"ABMI-509-3_20140324_000000.sig\")\n",
    "    #line2 = raw_input(\"ABMI-509-3_20140325_000000\": \"ABMI-509-3_20140325_000000.sig\")\n",
    "    line1 = raw_input(\"ABC\")\n",
    "    line2 = raw_input(\"DEF\")\n",
    "    #out.write('{}\\n{}\\n{}\\n'.format(line1,line2))\n",
    "    out.writelines([line1, \"\\n\", line2,\"\\n\"])\n",
    "#ds = DataSet.mergeFiles(yaml.load(open('/home/gordon/filelist1.yaml').read())"
   ]
  },
  {
   "cell_type": "code",
   "execution_count": 43,
   "metadata": {
    "collapsed": false,
    "scrolled": true
   },
   "outputs": [
    {
     "ename": "SyntaxError",
     "evalue": "unexpected EOF while parsing (<ipython-input-43-81447d6d4892>, line 1)",
     "output_type": "error",
     "traceback": [
      "\u001b[0;36m  File \u001b[0;32m\"<ipython-input-43-81447d6d4892>\"\u001b[0;36m, line \u001b[0;32m1\u001b[0m\n\u001b[0;31m    ds = DataSet.mergeFiles(yaml.load(open('/home/gordon/filelist.yaml').read())\u001b[0m\n\u001b[0m                                                                                ^\u001b[0m\n\u001b[0;31mSyntaxError\u001b[0m\u001b[0;31m:\u001b[0m unexpected EOF while parsing\n"
     ]
    }
   ],
   "source": [
    "ds = DataSet.mergeFiles(yaml.load(open('/home/gordon/filelist.yaml').read())"
   ]
  },
  {
   "cell_type": "code",
   "execution_count": 28,
   "metadata": {
    "collapsed": false
   },
   "outputs": [],
   "source": [
    "ds.save('mytrancemusic.db')\n",
    "tranceDB = DataSet()\n",
    "tranceDB.load('mytrancemusic.db')\n"
   ]
  },
  {
   "cell_type": "code",
   "execution_count": 29,
   "metadata": {
    "collapsed": false
   },
   "outputs": [
    {
     "ename": "Exception",
     "evalue": "Unable to find point with id 'ABMI-509-3_20140325_000000'",
     "output_type": "error",
     "traceback": [
      "\u001b[0;31m---------------------------------------------------------------------------\u001b[0m",
      "\u001b[0;31mException\u001b[0m                                 Traceback (most recent call last)",
      "\u001b[0;32m<ipython-input-29-1ef4e37d2615>\u001b[0m in \u001b[0;36m<module>\u001b[0;34m()\u001b[0m\n\u001b[0;32m----> 1\u001b[0;31m \u001b[0mp\u001b[0m \u001b[0;34m=\u001b[0m \u001b[0mds\u001b[0m\u001b[0;34m.\u001b[0m\u001b[0mpoint\u001b[0m\u001b[0;34m(\u001b[0m\u001b[0;34m'ABMI-509-3_20140325_000000'\u001b[0m\u001b[0;34m)\u001b[0m\u001b[0;34m\u001b[0m\u001b[0m\n\u001b[0m\u001b[1;32m      2\u001b[0m \u001b[0;31m# print some useful stuff\u001b[0m\u001b[0;34m\u001b[0m\u001b[0;34m\u001b[0m\u001b[0m\n\u001b[1;32m      3\u001b[0m \u001b[0;32mprint\u001b[0m \u001b[0;34m'BPM is:'\u001b[0m\u001b[0;34m,\u001b[0m \u001b[0mp\u001b[0m\u001b[0;34m.\u001b[0m\u001b[0mvalue\u001b[0m\u001b[0;34m(\u001b[0m\u001b[0;34m'tempotap_bpm'\u001b[0m\u001b[0;34m)\u001b[0m\u001b[0;34m\u001b[0m\u001b[0m\n\u001b[1;32m      4\u001b[0m \u001b[0;32mprint\u001b[0m \u001b[0;34m'Variance of third MFCC coeff is:'\u001b[0m\u001b[0;34m,\u001b[0m \u001b[0mp\u001b[0m\u001b[0;34m.\u001b[0m\u001b[0mvalue\u001b[0m\u001b[0;34m(\u001b[0m\u001b[0;34m'mfcc.var'\u001b[0m\u001b[0;34m)\u001b[0m\u001b[0;34m[\u001b[0m\u001b[0;36m2\u001b[0m\u001b[0;34m]\u001b[0m\u001b[0;34m\u001b[0m\u001b[0m\n\u001b[1;32m      5\u001b[0m \u001b[0;32mprint\u001b[0m \u001b[0;34m'Key/mode is: '\u001b[0m\u001b[0;34m,\u001b[0m \u001b[0mp\u001b[0m\u001b[0;34m.\u001b[0m\u001b[0mlabel\u001b[0m\u001b[0;34m(\u001b[0m\u001b[0;34m'key_key'\u001b[0m\u001b[0;34m)\u001b[0m\u001b[0;34m,\u001b[0m \u001b[0mp\u001b[0m\u001b[0;34m.\u001b[0m\u001b[0mlabel\u001b[0m\u001b[0;34m(\u001b[0m\u001b[0;34m'key_mode'\u001b[0m\u001b[0;34m)\u001b[0m\u001b[0;34m\u001b[0m\u001b[0m\n",
      "\u001b[0;32m/usr/local/lib/python2.7/dist-packages/gaia2/__init__.py\u001b[0m in \u001b[0;36mnewMethod\u001b[0;34m(*args, **kwargs)\u001b[0m\n\u001b[1;32m   6193\u001b[0m \u001b[0;34m\u001b[0m\u001b[0m\n\u001b[1;32m   6194\u001b[0m     \u001b[0;32mdef\u001b[0m \u001b[0mnewMethod\u001b[0m\u001b[0;34m(\u001b[0m\u001b[0;34m*\u001b[0m\u001b[0margs\u001b[0m\u001b[0;34m,\u001b[0m \u001b[0;34m**\u001b[0m\u001b[0mkwargs\u001b[0m\u001b[0;34m)\u001b[0m\u001b[0;34m:\u001b[0m\u001b[0;34m\u001b[0m\u001b[0m\n\u001b[0;32m-> 6195\u001b[0;31m         \u001b[0mresult\u001b[0m \u001b[0;34m=\u001b[0m \u001b[0morigMethod\u001b[0m\u001b[0;34m(\u001b[0m\u001b[0;34m*\u001b[0m\u001b[0margs\u001b[0m\u001b[0;34m,\u001b[0m \u001b[0;34m**\u001b[0m\u001b[0mkwargs\u001b[0m\u001b[0;34m)\u001b[0m\u001b[0;34m\u001b[0m\u001b[0m\n\u001b[0m\u001b[1;32m   6196\u001b[0m         \u001b[0mresult\u001b[0m\u001b[0;34m.\u001b[0m\u001b[0m_parentRef\u001b[0m \u001b[0;34m=\u001b[0m \u001b[0margs\u001b[0m\u001b[0;34m[\u001b[0m\u001b[0;36m0\u001b[0m\u001b[0;34m]\u001b[0m \u001b[0;31m# args[0] == self\u001b[0m\u001b[0;34m\u001b[0m\u001b[0m\n\u001b[1;32m   6197\u001b[0m         \u001b[0;32mreturn\u001b[0m \u001b[0mresult\u001b[0m\u001b[0;34m\u001b[0m\u001b[0m\n",
      "\u001b[0;32m/usr/local/lib/python2.7/dist-packages/gaia2/__init__.py\u001b[0m in \u001b[0;36mpoint\u001b[0;34m(self, *args)\u001b[0m\n\u001b[1;32m   5409\u001b[0m         \u001b[0mGaiaException\u001b[0m \u001b[0mwhen\u001b[0m \u001b[0mthe\u001b[0m \u001b[0mpoint\u001b[0m \u001b[0mwas\u001b[0m \u001b[0;32mnot\u001b[0m \u001b[0mfound\u001b[0m \u001b[0;32min\u001b[0m \u001b[0mthe\u001b[0m \u001b[0mdataset\u001b[0m\u001b[0;34m\u001b[0m\u001b[0m\n\u001b[1;32m   5410\u001b[0m         \"\"\"\n\u001b[0;32m-> 5411\u001b[0;31m         \u001b[0;32mreturn\u001b[0m \u001b[0m_gaia2\u001b[0m\u001b[0;34m.\u001b[0m\u001b[0mDataSet_point\u001b[0m\u001b[0;34m(\u001b[0m\u001b[0mself\u001b[0m\u001b[0;34m,\u001b[0m \u001b[0;34m*\u001b[0m\u001b[0margs\u001b[0m\u001b[0;34m)\u001b[0m\u001b[0;34m\u001b[0m\u001b[0m\n\u001b[0m\u001b[1;32m   5412\u001b[0m \u001b[0;34m\u001b[0m\u001b[0m\n\u001b[1;32m   5413\u001b[0m \u001b[0;34m\u001b[0m\u001b[0m\n",
      "\u001b[0;31mException\u001b[0m: Unable to find point with id 'ABMI-509-3_20140325_000000'"
     ]
    }
   ],
   "source": [
    "p = ds.point('ABMI-509-3_20140325_000000')\n",
    "# print some useful stuff\n",
    "print 'BPM is:', p.value('tempotap_bpm')\n",
    "print 'Variance of third MFCC coeff is:', p.value('mfcc.var')[2]\n",
    "print 'Key/mode is: ', p.label('key_key'), p.label('key_mode')\n",
    "\n",
    "# more pythonic way of doing it:\n",
    "print 'BPM is:', p['tempotap_bpm']\n",
    "print 'Key/mode is: ', p['key_key'], p['key_mode']"
   ]
  },
  {
   "cell_type": "code",
   "execution_count": 47,
   "metadata": {
    "collapsed": false
   },
   "outputs": [
    {
     "name": "stdout",
     "output_type": "stream",
     "text": [
      "\n"
     ]
    }
   ],
   "source": [
    "import yaml\n"
   ]
  },
  {
   "cell_type": "code",
   "execution_count": 51,
   "metadata": {
    "collapsed": false
   },
   "outputs": [
    {
     "name": "stdout",
     "output_type": "stream",
     "text": [
      "/home/gordon/filelist.yaml\n",
      "...\n",
      "\n",
      "/home/gordon/filelist.yaml\n"
     ]
    }
   ],
   "source": [
    "print yaml.dump(yaml.load('/home/gordon/filelist.yaml'))\n",
    "for data in yaml.load_all('/home/gordon/filelist.yaml'):\n",
    "    print data"
   ]
  },
  {
   "cell_type": "code",
   "execution_count": 46,
   "metadata": {
    "collapsed": false
   },
   "outputs": [
    {
     "name": "stdout",
     "output_type": "stream",
     "text": [
      "How fast does a monkey dance:"
     ]
    },
    {
     "ename": "Exception",
     "evalue": "Unable to find point with id 'Funky Monkey'",
     "output_type": "error",
     "traceback": [
      "\u001b[0;31m---------------------------------------------------------------------------\u001b[0m",
      "\u001b[0;31mException\u001b[0m                                 Traceback (most recent call last)",
      "\u001b[0;32m<ipython-input-46-c6ffbfbd81f8>\u001b[0m in \u001b[0;36m<module>\u001b[0;34m()\u001b[0m\n\u001b[1;32m      4\u001b[0m \u001b[0;34m\u001b[0m\u001b[0m\n\u001b[1;32m      5\u001b[0m \u001b[0;31m# from there it's just as before:\u001b[0m\u001b[0;34m\u001b[0m\u001b[0;34m\u001b[0m\u001b[0m\n\u001b[0;32m----> 6\u001b[0;31m \u001b[0;32mprint\u001b[0m \u001b[0;34m'How fast does a monkey dance:'\u001b[0m\u001b[0;34m,\u001b[0m \u001b[0mtranceDB\u001b[0m\u001b[0;34m.\u001b[0m\u001b[0mpoint\u001b[0m\u001b[0;34m(\u001b[0m\u001b[0;34m'Funky Monkey'\u001b[0m\u001b[0;34m)\u001b[0m\u001b[0;34m.\u001b[0m\u001b[0mvalue\u001b[0m\u001b[0;34m(\u001b[0m\u001b[0;34m'tempotap_bpm'\u001b[0m\u001b[0;34m)\u001b[0m\u001b[0;34m\u001b[0m\u001b[0m\n\u001b[0m",
      "\u001b[0;32m/usr/local/lib/python2.7/dist-packages/gaia2/__init__.py\u001b[0m in \u001b[0;36mnewMethod\u001b[0;34m(*args, **kwargs)\u001b[0m\n\u001b[1;32m   6193\u001b[0m \u001b[0;34m\u001b[0m\u001b[0m\n\u001b[1;32m   6194\u001b[0m     \u001b[0;32mdef\u001b[0m \u001b[0mnewMethod\u001b[0m\u001b[0;34m(\u001b[0m\u001b[0;34m*\u001b[0m\u001b[0margs\u001b[0m\u001b[0;34m,\u001b[0m \u001b[0;34m**\u001b[0m\u001b[0mkwargs\u001b[0m\u001b[0;34m)\u001b[0m\u001b[0;34m:\u001b[0m\u001b[0;34m\u001b[0m\u001b[0m\n\u001b[0;32m-> 6195\u001b[0;31m         \u001b[0mresult\u001b[0m \u001b[0;34m=\u001b[0m \u001b[0morigMethod\u001b[0m\u001b[0;34m(\u001b[0m\u001b[0;34m*\u001b[0m\u001b[0margs\u001b[0m\u001b[0;34m,\u001b[0m \u001b[0;34m**\u001b[0m\u001b[0mkwargs\u001b[0m\u001b[0;34m)\u001b[0m\u001b[0;34m\u001b[0m\u001b[0m\n\u001b[0m\u001b[1;32m   6196\u001b[0m         \u001b[0mresult\u001b[0m\u001b[0;34m.\u001b[0m\u001b[0m_parentRef\u001b[0m \u001b[0;34m=\u001b[0m \u001b[0margs\u001b[0m\u001b[0;34m[\u001b[0m\u001b[0;36m0\u001b[0m\u001b[0;34m]\u001b[0m \u001b[0;31m# args[0] == self\u001b[0m\u001b[0;34m\u001b[0m\u001b[0m\n\u001b[1;32m   6197\u001b[0m         \u001b[0;32mreturn\u001b[0m \u001b[0mresult\u001b[0m\u001b[0;34m\u001b[0m\u001b[0m\n",
      "\u001b[0;32m/usr/local/lib/python2.7/dist-packages/gaia2/__init__.py\u001b[0m in \u001b[0;36mpoint\u001b[0;34m(self, *args)\u001b[0m\n\u001b[1;32m   5409\u001b[0m         \u001b[0mGaiaException\u001b[0m \u001b[0mwhen\u001b[0m \u001b[0mthe\u001b[0m \u001b[0mpoint\u001b[0m \u001b[0mwas\u001b[0m \u001b[0;32mnot\u001b[0m \u001b[0mfound\u001b[0m \u001b[0;32min\u001b[0m \u001b[0mthe\u001b[0m \u001b[0mdataset\u001b[0m\u001b[0;34m\u001b[0m\u001b[0m\n\u001b[1;32m   5410\u001b[0m         \"\"\"\n\u001b[0;32m-> 5411\u001b[0;31m         \u001b[0;32mreturn\u001b[0m \u001b[0m_gaia2\u001b[0m\u001b[0;34m.\u001b[0m\u001b[0mDataSet_point\u001b[0m\u001b[0;34m(\u001b[0m\u001b[0mself\u001b[0m\u001b[0;34m,\u001b[0m \u001b[0;34m*\u001b[0m\u001b[0margs\u001b[0m\u001b[0;34m)\u001b[0m\u001b[0;34m\u001b[0m\u001b[0m\n\u001b[0m\u001b[1;32m   5412\u001b[0m \u001b[0;34m\u001b[0m\u001b[0m\n\u001b[1;32m   5413\u001b[0m \u001b[0;34m\u001b[0m\u001b[0m\n",
      "\u001b[0;31mException\u001b[0m: Unable to find point with id 'Funky Monkey'"
     ]
    }
   ],
   "source": [
    "ds.save('mytrancemusic.db')\n",
    "tranceDB = DataSet()\n",
    "tranceDB.load('mytrancemusic.db')\n",
    "\n",
    "# from there it's just as before:\n",
    "print 'How fast does a monkey dance:', tranceDB.point('Funky Monkey').value('tempotap_bpm')"
   ]
  },
  {
   "cell_type": "code",
   "execution_count": 45,
   "metadata": {
    "collapsed": false
   },
   "outputs": [
    {
     "ename": "NameError",
     "evalue": "name 'cleanTranceDB' is not defined",
     "output_type": "error",
     "traceback": [
      "\u001b[0;31m---------------------------------------------------------------------------\u001b[0m",
      "\u001b[0;31mNameError\u001b[0m                                 Traceback (most recent call last)",
      "\u001b[0;32m<ipython-input-45-164018632c2b>\u001b[0m in \u001b[0;36m<module>\u001b[0;34m()\u001b[0m\n\u001b[1;32m      1\u001b[0m \u001b[0;31m# remove MFCC, because we don't want them! (incidentally, mfcc also contains (as of essentia 0.4)\u001b[0m\u001b[0;34m\u001b[0m\u001b[0;34m\u001b[0m\u001b[0m\n\u001b[1;32m      2\u001b[0m \u001b[0;31m# covariance and inverse covariance matrix, which do NOT like to be normalized)\u001b[0m\u001b[0;34m\u001b[0m\u001b[0;34m\u001b[0m\u001b[0m\n\u001b[0;32m----> 3\u001b[0;31m \u001b[0mno_mfccDB\u001b[0m \u001b[0;34m=\u001b[0m \u001b[0mtransform\u001b[0m\u001b[0;34m(\u001b[0m\u001b[0mcleanTranceDB\u001b[0m\u001b[0;34m,\u001b[0m \u001b[0;34m'remove'\u001b[0m\u001b[0;34m,\u001b[0m \u001b[0;34m{\u001b[0m \u001b[0;34m'descriptorNames'\u001b[0m\u001b[0;34m:\u001b[0m \u001b[0;34m'*mfcc*'\u001b[0m \u001b[0;34m}\u001b[0m\u001b[0;34m)\u001b[0m\u001b[0;34m\u001b[0m\u001b[0m\n\u001b[0m\u001b[1;32m      4\u001b[0m \u001b[0;34m\u001b[0m\u001b[0m\n\u001b[1;32m      5\u001b[0m \u001b[0;31m# Normalize everything\u001b[0m\u001b[0;34m\u001b[0m\u001b[0;34m\u001b[0m\u001b[0m\n",
      "\u001b[0;31mNameError\u001b[0m: name 'cleanTranceDB' is not defined"
     ]
    }
   ],
   "source": [
    "# remove MFCC, because we don't want them! (incidentally, mfcc also contains (as of essentia 0.4)\n",
    "# covariance and inverse covariance matrix, which do NOT like to be normalized)\n",
    "no_mfccDB = transform(cleanTranceDB, 'remove', { 'descriptorNames': '*mfcc*' })\n",
    "\n",
    "# Normalize everything\n",
    "normalizedDB = transform(no_mfccDB, 'normalize')\n",
    "\n",
    "# PCA-30 on only the mean and variance of Real descriptors\n",
    "pcaDB = transform(normalizedDB, 'pca', { 'dimension': 30, 'descriptorNames': [ '*.mean', '*.var' ] })"
   ]
  },
  {
   "cell_type": "code",
   "execution_count": 44,
   "metadata": {
    "collapsed": false
   },
   "outputs": [
    {
     "ename": "NameError",
     "evalue": "name 'pcaDB' is not defined",
     "output_type": "error",
     "traceback": [
      "\u001b[0;31m---------------------------------------------------------------------------\u001b[0m",
      "\u001b[0;31mNameError\u001b[0m                                 Traceback (most recent call last)",
      "\u001b[0;32m<ipython-input-44-36255abca0f7>\u001b[0m in \u001b[0;36m<module>\u001b[0;34m()\u001b[0m\n\u001b[0;32m----> 1\u001b[0;31m \u001b[0meuclideanMetric\u001b[0m \u001b[0;34m=\u001b[0m \u001b[0mDistanceFunctionFactory\u001b[0m\u001b[0;34m.\u001b[0m\u001b[0mcreate\u001b[0m\u001b[0;34m(\u001b[0m\u001b[0;34m'euclidean'\u001b[0m\u001b[0;34m,\u001b[0m \u001b[0mpcaDB\u001b[0m\u001b[0;34m.\u001b[0m\u001b[0mlayout\u001b[0m\u001b[0;34m(\u001b[0m\u001b[0;34m)\u001b[0m\u001b[0;34m)\u001b[0m\u001b[0;34m\u001b[0m\u001b[0m\n\u001b[0m\u001b[1;32m      2\u001b[0m \u001b[0mmanhattanMetric\u001b[0m \u001b[0;34m=\u001b[0m \u001b[0mDistanceFunctionFactory\u001b[0m\u001b[0;34m.\u001b[0m\u001b[0mcreate\u001b[0m\u001b[0;34m(\u001b[0m\u001b[0;34m'manhattan'\u001b[0m\u001b[0;34m,\u001b[0m \u001b[0mpcaDB\u001b[0m\u001b[0;34m.\u001b[0m\u001b[0mlayout\u001b[0m\u001b[0;34m(\u001b[0m\u001b[0;34m)\u001b[0m\u001b[0;34m)\u001b[0m\u001b[0;34m\u001b[0m\u001b[0m\n\u001b[1;32m      3\u001b[0m \u001b[0;34m\u001b[0m\u001b[0m\n\u001b[1;32m      4\u001b[0m \u001b[0;31m# define a composite distance which is an euclidean distance on only the mean and var descriptors,\u001b[0m\u001b[0;34m\u001b[0m\u001b[0;34m\u001b[0m\u001b[0m\n\u001b[1;32m      5\u001b[0m \u001b[0;31m# plus 2 times the manhattan distance on the min and max descriptors:\u001b[0m\u001b[0;34m\u001b[0m\u001b[0;34m\u001b[0m\u001b[0m\n",
      "\u001b[0;31mNameError\u001b[0m: name 'pcaDB' is not defined"
     ]
    }
   ],
   "source": [
    "euclideanMetric = DistanceFunctionFactory.create('euclidean', pcaDB.layout())\n",
    "manhattanMetric = DistanceFunctionFactory.create('manhattan', pcaDB.layout())\n",
    "\n",
    "# define a composite distance which is an euclidean distance on only the mean and var descriptors,\n",
    "# plus 2 times the manhattan distance on the min and max descriptors:\n",
    "\n",
    "euclidParams = {\n",
    "    'name': 'euclidean',\n",
    "    'params': { 'descriptorNames': [ '*.mean', '*.var' ] },\n",
    "    'weight': 1.0\n",
    "}\n",
    "\n",
    "manhattanParams = {\n",
    "    'name': 'manhattan',\n",
    "    'params': { 'descriptorNames': [ '*.min', '*.max' ] },\n",
    "    'weight': 2.0\n",
    "}\n",
    "\n",
    "mixedParams = { 'euclidp': euclidParams, 'manp': manhattanParams }\n",
    "\n",
    "mixedMetric = DistanceFunctionFactory.create('linearcombination', pcaDB.layout(), mixedParams)\n"
   ]
  },
  {
   "cell_type": "code",
   "execution_count": 1,
   "metadata": {
    "collapsed": false
   },
   "outputs": [],
   "source": [
    "from __future__ import with_statement\n",
    "import sys\n",
    "from os.path import join, abspath\n",
    "from optparse import OptionParser\n",
    "from gaia2 import filedir\n",
    "import gaia2.fastyaml as yaml"
   ]
  },
  {
   "cell_type": "code",
   "execution_count": 14,
   "metadata": {
    "collapsed": false,
    "scrolled": false
   },
   "outputs": [],
   "source": [
    "PROJECT_TEMPLATE = open('/home/gordon/gaia/scripts/classification/classification_project_template.yaml').read()"
   ]
  },
  {
   "cell_type": "code",
   "execution_count": 10,
   "metadata": {
    "collapsed": false,
    "scrolled": true
   },
   "outputs": [
    {
     "name": "stdout",
     "output_type": "stream",
     "text": [
      "/home/gordon/gaia\n",
      "/usr/lib/python2.7/dist-packages/ipykernel_launcher.py\n",
      "/home/gordon/gaia\n"
     ]
    }
   ],
   "source": [
    "import os\n",
    "import sys\n",
    "\n",
    "#from setuptools import setup\n",
    "#absFilePath = os.path.abspath(__file__)\n",
    "#print(absFilePath)\n",
    "#fileDir = os.path.dirname(os.path.abspath(__file__))\n",
    "#print(fileDir)\n",
    "print(os.getcwd())\n",
    "print(sys.argv[0])\n",
    "print(os.path.dirname(os.path.realpath('__file__')))"
   ]
  },
  {
   "cell_type": "code",
   "execution_count": 19,
   "metadata": {
    "collapsed": false
   },
   "outputs": [],
   "source": [
    "def generateProject(groundtruth_file, filelist_file, project_file, datasets_dir, results_dir):\n",
    "    gt = yaml.load(open(groundtruth_file, 'r'))\n",
    "    try:\n",
    "        className = gt['className']\n",
    "        groundTruth = gt['groundTruth']\n",
    "    except:\n",
    "        print groundtruth_file, \"groundtruth file has incorrect format\"\n",
    "        sys.exit(2)\n",
    "\n",
    "    fl = yaml.load(open(filelist_file, 'r'))\n",
    "\n",
    "    gt_trackids = groundTruth.keys()\n",
    "    fl_trackids = fl.keys()\n",
    "\n",
    "    # check that there are no dublicate ids\n",
    "    if len(gt_trackids) != len(set(gt_trackids)):\n",
    "        print groundtruth_file, \"contains dublicate track ids\"\n",
    "        sys.exit(3)\n",
    "\n",
    "    if len(fl_trackids) != len(set(fl_trackids)):\n",
    "        print filelist_file, \"contains dublicate track ids\"\n",
    "        sys.exit(3)\n",
    "\n",
    "    # check if filelist is consistent with groundtruth (no files missing)\n",
    "    if set(gt_trackids) != set(fl_trackids):\n",
    "        print \"track ids found in\", groundtruth_file, \"are inconsistent with\", filelist_file\n",
    "        sys.exit(4)\n",
    "\n",
    "    # write the project file\n",
    "    with open(project_file, 'w') as pfile:\n",
    "        pfile.write(PROJECT_TEMPLATE % { 'className': className,\n",
    "                                         'datasetsDirectory': abspath(datasets_dir),\n",
    "                                         'resultsDirectory': abspath(results_dir),\n",
    "                                         'filelist': abspath(filelist_file),\n",
    "                                         'groundtruth': abspath(groundtruth_file) })\n",
    "\n",
    "    print 'Successfully written', project_file\n",
    "\n",
    "\n",
    "#if __name__ == '__main__':\n",
    "#    parser = OptionParser(usage = '%prog [options] groundtruth_file filelist_file project_file datasets_dir results_dir')#\n",
    "#\n",
    "#    options, args = parser.parse_args()\n",
    "#\n",
    "#    try:\n",
    "#        groundtruth_file = args[0]\n",
    "#        filelist_file = args[1]\n",
    "#        project_file = args[2]\n",
    "#        datasets_dir = args[3]\n",
    "#        results_dir = args[4]\n",
    "#    except:\n",
    "#        parser.print_help()\n",
    "#        sys.exit(1)\n",
    "#\n",
    "#    generateProject(groundtruth_file, filelist_file, project_file, datasets_dir, results_dir)\n",
    "\n"
   ]
  },
  {
   "cell_type": "markdown",
   "metadata": {},
   "source": []
  },
  {
   "cell_type": "code",
   "execution_count": null,
   "metadata": {
    "collapsed": true
   },
   "outputs": [],
   "source": []
  },
  {
   "cell_type": "code",
   "execution_count": 22,
   "metadata": {
    "collapsed": false,
    "scrolled": true
   },
   "outputs": [
    {
     "name": "stdout",
     "output_type": "stream",
     "text": [
      "Successfully written /home/gordon/gaia/scripts/classification/project_file.py\n"
     ]
    }
   ],
   "source": [
    "generateProject ('/home/gordon/gaia/scripts/classification/groundtruth_example.yaml',\n",
    "                 '/home/gordon/gaia/scripts/classification/filelist_example.yaml',\n",
    "                 '/home/gordon/gaia/scripts/classification/project_file.py',\n",
    "                 '/home/gordon/gaia/scripts/classification',\n",
    "                 '/home/gordon/gaia/scripts/classification')\n"
   ]
  },
  {
   "cell_type": "code",
   "execution_count": null,
   "metadata": {
    "collapsed": true
   },
   "outputs": [],
   "source": []
  }
 ],
 "metadata": {
  "kernelspec": {
   "display_name": "Python 2",
   "language": "python",
   "name": "python2"
  },
  "language_info": {
   "codemirror_mode": {
    "name": "ipython",
    "version": 2
   },
   "file_extension": ".py",
   "mimetype": "text/x-python",
   "name": "python",
   "nbconvert_exporter": "python",
   "pygments_lexer": "ipython2",
   "version": "2.7.14"
  }
 },
 "nbformat": 4,
 "nbformat_minor": 2
}
